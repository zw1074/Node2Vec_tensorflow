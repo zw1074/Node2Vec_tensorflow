{
 "cells": [
  {
   "cell_type": "markdown",
   "metadata": {},
   "source": [
    "# Node2vec Implementation\n",
    "\n",
    "This algorithm contains two steps:\n",
    "1. Generate sequences from graph by using random walk\n",
    "2. Use word2vec model to train embedding matrix from sequences"
   ]
  },
  {
   "cell_type": "code",
   "execution_count": 1,
   "metadata": {
    "collapsed": true
   },
   "outputs": [],
   "source": [
    "import numpy as np\n",
    "import random\n",
    "import networkx as nx\n",
    "import matplotlib.pyplot as plt\n",
    "from scipy.sparse import *\n",
    "import tensorflow as tf\n",
    "from sklearn.manifold import TSNE\n",
    "from tqdm import tqdm\n",
    "%matplotlib inline"
   ]
  },
  {
   "cell_type": "code",
   "execution_count": 2,
   "metadata": {
    "collapsed": false
   },
   "outputs": [],
   "source": [
    "# prepare the graph\n",
    "row  = np.array([0, 3, 1, 0])\n",
    "col  = np.array([0, 3, 1, 2])\n",
    "data = np.array([4, 5, 7, 9])\n",
    "A = coo_matrix((data, (row, col)), shape=(4, 4)).tocsr() # store it as row matrix for better performance"
   ]
  },
  {
   "cell_type": "markdown",
   "metadata": {},
   "source": [
    "## Random Walk by using search bias alpha\n",
    "Let $t$ be the previous node, $v$ be the current node, so the $\\pi_{vx}$ for each $x$ node in the graph is defined as below:\n",
    "$$\\pi_{vx} = \\alpha_{pq}(t,x)w_{vx}$$\n",
    "$$\\alpha_{pq}(t,x) = \\left\\{\\begin{array}[ll]\\\\\n",
    "                \\frac{1}{p} & \\mbox{if}~d_{tx} = 0\\\\\n",
    "                1 & \\mbox{if}~d_{tx} = 1\\\\\n",
    "                \\frac{1}{q} & \\mbox{if}~d_{tx} = 2\n",
    "           \\end{array}\\right.$$"
   ]
  },
  {
   "cell_type": "code",
   "execution_count": null,
   "metadata": {
    "collapsed": true
   },
   "outputs": [],
   "source": [
    "current = v\n",
    "previous = t\n",
    "(t, v) -> next? \n",
    "v connect to (x1, x2, ...)"
   ]
  },
  {
   "cell_type": "code",
   "execution_count": 3,
   "metadata": {
    "collapsed": false
   },
   "outputs": [],
   "source": [
    "def alpha(t, x, p, q, data_graph):\n",
    "    \"\"\"\n",
    "    param:\n",
    "    \n",
    "    Input:\n",
    "        @t: int, node index\n",
    "        @x: int, node index\n",
    "        @p: float, return factor\n",
    "        @q: float, go futher factor\n",
    "        @data_graph: matrix representation for graph\n",
    "        \n",
    "    Output:\n",
    "        @rtype: float\n",
    "    \"\"\"\n",
    "    if t == x:\n",
    "        return 1.0/p\n",
    "    elif data_graph[t, x] != 0:\n",
    "        return 1\n",
    "    else:\n",
    "        return 1.0/q\n",
    "\n",
    "def random_walk(start, p, q, sequence_length, data_graph):\n",
    "    sequence = []\n",
    "    for step in xrange(sequence_length):\n",
    "        if step == 0:\n",
    "            sequence.append(start)\n",
    "        elif step == 1:\n",
    "            current = data_graph[sequence[step-1],:].toarray().flatten()\n",
    "            if sum(current) != 0:\n",
    "                sequence.append(np.random.choice(range(data_graph.shape[1]), p=current/np.linalg.norm(current, ord=1)))\n",
    "            else:\n",
    "                sequence.append(sequence[step-1])\n",
    "        else:\n",
    "            current = data_graph[sequence[step-1],:].toarray().flatten()\n",
    "            if sum(current) != 0:\n",
    "                past = sequence[step-2]\n",
    "                pi_list = []\n",
    "                for i in xrange(data_graph.shape[1]):\n",
    "                    if current[i] != 0:\n",
    "                        pi_list.append(alpha(past, i, p, q, data_graph)*current[i])\n",
    "                    else:\n",
    "                        pi_list.append(0)\n",
    "                sequence.append(np.random.choice(range(data_graph.shape[1]), p=pi_list/np.linalg.norm(pi_list, ord=1)))\n",
    "            else:\n",
    "                sequence.append(sequence[step-1])\n",
    "    return sequence"
   ]
  },
  {
   "cell_type": "markdown",
   "metadata": {},
   "source": [
    "## Define word2vec model"
   ]
  },
  {
   "cell_type": "code",
   "execution_count": 4,
   "metadata": {
    "collapsed": false
   },
   "outputs": [],
   "source": [
    "# define neural net as word2vec\n",
    "class Node2Vec(object):\n",
    "    \"\"\"docstring for Node2Vec\"\"\"\n",
    "    def __init__(self, num_nodes, emb_size, lr, batch_size, context_size,num_sampled):\n",
    "        self.num_nodes = num_nodes\n",
    "        self.embedding_size = emb_size\n",
    "        self.lr = lr\n",
    "        self.batch_size = batch_size\n",
    "        self.context_size = context_size\n",
    "        self.num_sampled = num_sampled\n",
    "\n",
    "    def build(self):\n",
    "        # Parameters to learn\n",
    "        global_step = tf.Variable(0, name='global_step', trainable=False)\n",
    "        \n",
    "        self.node_embeddings = tf.Variable(tf.random_uniform([self.num_nodes, self.embedding_size], -1.0, 1.0))\n",
    "        softmax_weights = tf.Variable(tf.truncated_normal([self.num_nodes, self.embedding_size],stddev=1.0 / np.sqrt(self.embedding_size)))\n",
    "        softmax_biases = tf.Variable(tf.zeros([self.num_nodes]))\n",
    "\n",
    "        # Input data and re-orgenize size.\n",
    "        with tf.name_scope(\"context_node\") as scope:\n",
    "            #context nodes to each input node in the batch (e.g [[1,2],[4,6],[5,7]] where batch_size = 3,context_size=3)\n",
    "            self.train_context_node= tf.placeholder(tf.int32, shape=[self.batch_size,self.context_size],name=\"context_node\")\n",
    "            #orgenize prediction labels (skip-gram model predicts context nodes (i.e labels) given a input node)\n",
    "            #i.e make [[1,2,4,6,5,7]] given context above. The redundant dimention is just for restriction on tensorflow API.\n",
    "            train_context_node_flat=tf.reshape(self.train_context_node,[-1,1])\n",
    "        with tf.name_scope(\"input_node\") as scope:\n",
    "            #batch input node to the network(e.g [2,1,3] where batch_size = 3)\n",
    "            self.train_input_node= tf.placeholder(tf.int32, shape=[self.batch_size],name=\"input_node\")\n",
    "            #orgenize input as flat. i.e we want to make [2,2,2,1,1,1,3,3,3] given the  input nodes above\n",
    "            input_ones=tf.ones_like(self.train_context_node)\n",
    "#             input_ones=tf.ones_like(tf.constant(np.zeros(self.context_size)), dtype=tf.int32)\n",
    "#             train_input_node_flat=tf.reshape(tf.matmul(tf.reshape(self.train_input_node,[-1,1]), tf.reshape(input_ones, [1,-1])),[-1])\n",
    "            train_input_node_flat=tf.reshape(tf.mul(input_ones,tf.reshape(self.train_input_node,[-1,1])),[-1])\n",
    "\n",
    "        # Model.\n",
    "        with tf.name_scope(\"loss\") as scope:\n",
    "            # Look up embeddings for words.\n",
    "            node_embed = tf.nn.embedding_lookup(self.node_embeddings, train_input_node_flat)\n",
    "            # Compute the softmax loss, using a sample of the negative labels each time.\n",
    "            self.loss_node2vec = tf.reduce_mean(tf.nn.sampled_softmax_loss(softmax_weights,softmax_biases,node_embed,train_context_node_flat, self.num_sampled, self.num_nodes))\n",
    "#             loss_node2vec_summary = tf.scalar_summary(\"loss_node2vec\", self.loss_node2vec)\n",
    "            \n",
    "        self.update_loss = tf.train.AdamOptimizer().minimize(self.loss_node2vec,global_step=global_step)\n",
    "            \n",
    "            \n",
    "#         self.train_context_node = tf.placeholder(tf.int32, shape=[self.batch_size, self.context_size]) # (batch_size, context_size)\n",
    "#         self.train_input_node = tf.placeholder(tf.int32, shape=[self.batch_size, 1])\n",
    "#         labels = tf.one_hot(self.train_input_node, self.num_nodes) # (batch_size, numb_nodes)\n",
    "#         self.embedding_matrix = tf.Variable(tf.random_uniform([self.num_nodes, self.emb_size], -1.0, 1.0)) \n",
    "#         graph_emb = tf.nn.embedding_lookup(self.embedding_matrix, self.train_context_node)# (batch_size, context_size, emb_size)\n",
    "#         graph_emb = tf.reduce_sum(graph_emb, 1) # (batch_size, emb_size)\n",
    "#         graph_emb = tf.nn.tanh(graph_emb)\n",
    "#         W = tf.Variable(tf.truncated_normal([self.emb_size, self.num_nodes],stddev=1.0 / np.sqrt(self.emb_size)))\n",
    "#         b = tf.Variable(tf.zeros([self.num_nodes]))\n",
    "#         output = tf.nn.xw_plus_b(graph_emb, W, b) # (batch_size, numb_nodes)\n",
    "#         self.loss = tf.reduce_mean(tf.nn.softmax_cross_entropy_with_logits(output, labels))\n",
    "#         # loss_node2vec_summary = tf.scalar_summary(\"loss_node2vec\", loss)\n",
    "#         self.update_loss = tf.train.AdamOptimizer(learning_rate = self.lr).minimize(self.loss)"
   ]
  },
  {
   "cell_type": "markdown",
   "metadata": {},
   "source": [
    "## Training process"
   ]
  },
  {
   "cell_type": "code",
   "execution_count": 5,
   "metadata": {
    "collapsed": false
   },
   "outputs": [],
   "source": [
    "# read edge data from txt file and store it as csr_matrix\n",
    "with open(\"graph.txt\") as f:\n",
    "    edges = f.readlines()\n",
    "rows = []\n",
    "cols = []\n",
    "data = []\n",
    "biggest_node_index = 0\n",
    "for edge in edges:\n",
    "    row, col = edge.strip().split()\n",
    "    rows.append(int(row)-1)\n",
    "    rows.append(int(col)-1)\n",
    "    cols.append(int(col)-1)\n",
    "    cols.append(int(row)-1)\n",
    "    data += [1,1]\n",
    "    biggest_node_index = max([max([int(row), int(col)]), biggest_node_index])\n",
    "data_graph = coo_matrix((data, (rows, cols)), shape=(biggest_node_index, biggest_node_index)).tocsr()"
   ]
  },
  {
   "cell_type": "code",
   "execution_count": 6,
   "metadata": {
    "collapsed": false
   },
   "outputs": [],
   "source": [
    "# set some hyperparameter\n",
    "p = 0.5\n",
    "q = 2\n",
    "num_text = 1000\n",
    "sequence_length = 32\n",
    "num_nodes = data_graph.shape[0]\n",
    "emb_size = 200\n",
    "lr = 0.1\n",
    "batch_size = None\n",
    "context_size = 16\n",
    "num_epoch = 100\n",
    "num_sampled = data_graph.shape[0]"
   ]
  },
  {
   "cell_type": "markdown",
   "metadata": {},
   "source": [
    "### 1. Sample the walk sequence from random walk"
   ]
  },
  {
   "cell_type": "code",
   "execution_count": 7,
   "metadata": {
    "collapsed": false
   },
   "outputs": [
    {
     "name": "stderr",
     "output_type": "stream",
     "text": [
      "100%|██████████| 1000/1000 [00:08<00:00, 116.42it/s]\n"
     ]
    }
   ],
   "source": [
    "# Sampling\n",
    "corpus = []\n",
    "for i in tqdm(xrange(num_text)):\n",
    "    start = np.random.choice(range(num_nodes))\n",
    "    corpus.append(random_walk(start, p, q, sequence_length, data_graph))"
   ]
  },
  {
   "cell_type": "markdown",
   "metadata": {},
   "source": [
    "### 2. Build the neural net and train it"
   ]
  },
  {
   "cell_type": "code",
   "execution_count": 8,
   "metadata": {
    "collapsed": false
   },
   "outputs": [],
   "source": [
    "# training the neural net\n",
    "net = Node2Vec(num_nodes, emb_size, lr, batch_size, context_size, num_sampled)\n",
    "net.build()"
   ]
  },
  {
   "cell_type": "code",
   "execution_count": 9,
   "metadata": {
    "collapsed": false,
    "scrolled": false
   },
   "outputs": [
    {
     "name": "stdout",
     "output_type": "stream",
     "text": [
      "2.98155\n",
      "2.98245\n",
      "107.274\n"
     ]
    },
    {
     "name": "stderr",
     "output_type": "stream",
     "text": [
      "/home/zihaowang/anaconda2/lib/python2.7/site-packages/ipykernel/__main__.py:20: FutureWarning: comparison to `None` will result in an elementwise object comparison in the future.\n"
     ]
    },
    {
     "name": "stdout",
     "output_type": "stream",
     "text": [
      "2.98212\n",
      "95.3452\n",
      "2.98129\n",
      "90.7973\n",
      "2.98477\n",
      "87.7406\n",
      "2.98047\n",
      "84.9363\n",
      "2.98047\n",
      "83.3569\n",
      "2.98371\n",
      "81.9491\n",
      "2.97982\n",
      "80.8569\n",
      "2.97911\n",
      "80.0761\n",
      "2.979\n",
      "79.7654\n",
      "2.97337\n",
      "79.4094\n",
      "2.97716\n",
      "79.4668\n",
      "2.96993\n",
      "79.2082\n",
      "2.97236\n",
      "79.7377\n",
      "2.96892\n",
      "80.1727\n",
      "2.96796\n",
      "80.0621\n",
      "2.9725\n",
      "80.7626\n",
      "2.96906\n",
      "81.1902\n",
      "2.96334\n",
      "81.5618\n",
      "2.96608\n",
      "82.2513\n",
      "2.96657\n",
      "82.3\n",
      "2.9626\n",
      "82.6444\n",
      "2.96372\n",
      "83.0507\n",
      "2.96543\n",
      "83.1476\n",
      "2.96647\n",
      "82.6728\n",
      "2.96539\n",
      "82.3551\n",
      "2.95845\n",
      "81.9626\n",
      "2.95963\n",
      "81.4216\n",
      "2.96411\n",
      "81.1232\n",
      "2.96166\n",
      "80.3449\n",
      "2.95718\n",
      "78.7527\n",
      "2.95846\n",
      "78.371\n",
      "2.96255\n",
      "78.8007\n",
      "2.95763\n",
      "79.0469\n",
      "2.96149\n",
      "80.0437\n",
      "2.96364\n",
      "79.3904\n",
      "2.95966\n",
      "81.3649\n",
      "2.95725\n",
      "81.3812\n",
      "2.96037\n",
      "81.024\n",
      "2.95672\n",
      "78.769\n",
      "2.95992\n",
      "81.4062\n",
      "2.96119\n",
      "85.2397\n",
      "2.95784\n",
      "84.9841\n",
      "2.9578\n",
      "85.5317\n",
      "2.95759\n",
      "84.3892\n",
      "2.95741\n",
      "87.1859\n",
      "2.96138\n",
      "86.1337\n",
      "2.95713\n",
      "88.2522\n",
      "2.9604\n",
      "91.5591\n",
      "2.95708\n",
      "92.5875\n",
      "2.96121\n",
      "93.1673\n",
      "2.95819\n",
      "91.7154\n",
      "2.95715\n",
      "92.5515\n",
      "2.95905\n",
      "92.871\n",
      "2.96196\n",
      "92.5083\n",
      "2.96067\n",
      "92.4134\n",
      "2.96405\n",
      "92.789\n",
      "2.95919\n",
      "94.8848\n",
      "2.95491\n",
      "94.5401\n",
      "2.95761\n",
      "97.9262\n",
      "2.95801\n",
      "97.8048\n",
      "2.95704\n",
      "99.2876\n",
      "2.96283\n",
      "98.9441\n",
      "2.95573\n",
      "96.6554\n",
      "2.96037\n",
      "97.4674\n",
      "2.96232\n",
      "98.8711\n",
      "2.95741\n",
      "97.2523\n",
      "2.95491\n",
      "94.7774\n",
      "2.95659\n",
      "100.677\n",
      "2.95385\n",
      "101.291\n",
      "2.95723\n",
      "96.841\n",
      "2.96114\n",
      "97.5803\n",
      "2.95577\n",
      "100.102\n",
      "2.95964\n",
      "101.749\n",
      "2.95909\n",
      "99.6828\n",
      "2.95437\n",
      "99.3384\n",
      "2.95452\n",
      "99.5884\n",
      "2.95967\n",
      "103.418\n",
      "2.95721\n",
      "103.48\n",
      "2.95979\n",
      "104.258\n",
      "2.95974\n",
      "106.057\n",
      "2.95713\n",
      "108.306\n",
      "2.95839\n",
      "109.635\n",
      "2.95476\n",
      "110.843\n",
      "2.95296\n",
      "110.436\n",
      "2.95713\n",
      "106.791\n",
      "2.96021\n",
      "108.927\n",
      "2.95227\n",
      "110.421\n",
      "2.95562\n",
      "108.336\n",
      "2.95793\n",
      "109.42\n",
      "2.95657\n",
      "111.003\n",
      "2.95357\n",
      "111.972\n",
      "2.9551\n",
      "114.258\n",
      "2.95958\n",
      "111.917\n",
      "2.95631\n",
      "110.354\n",
      "2.95893\n",
      "109.014\n",
      "2.95461\n",
      "110.66\n",
      "2.95651\n",
      "111.226\n",
      "2.95099\n",
      "110.805\n"
     ]
    }
   ],
   "source": [
    "init = tf.initialize_all_variables()\n",
    "# merged = tf.merge_all_summaries()\n",
    "with tf.Session() as sess:\n",
    "    log_dir = \"./log1\"\n",
    "#     writer = tf.train.SummaryWriter(log_dir, sess.graph)\n",
    "    sess.run(init)\n",
    "    t = 0\n",
    "    emb = None\n",
    "    for epoch in xrange(num_epoch):\n",
    "        for i in xrange(num_text):\n",
    "            current_seq = corpus[i]\n",
    "            labels = np.array([current_seq[j] for j in xrange(sequence_length - context_size)])\n",
    "            inputs = np.array([current_seq[j+1:j+1+context_size] for j in xrange(sequence_length - context_size)])\n",
    "            feed_dict = {net.train_context_node: inputs, net.train_input_node: labels}\n",
    "            _, loss = sess.run([net.update_loss, net.loss_node2vec], feed_dict=feed_dict)\n",
    "        #         writer.add_summary(summary,i)\n",
    "            t += 1\n",
    "            if t % 1000 == 0:\n",
    "                print(loss)\n",
    "                if emb == None:\n",
    "                    emb = sess.run(net.node_embeddings)\n",
    "                else:\n",
    "                    emb2 = sess.run(net.node_embeddings)\n",
    "                    print(np.sum(np.abs(emb - emb2)))\n",
    "                    emb = emb2\n",
    "    # Get the final result\n",
    "    Final_emb = sess.run(net.node_embeddings)"
   ]
  },
  {
   "cell_type": "markdown",
   "metadata": {},
   "source": [
    "### 3. Visualization"
   ]
  },
  {
   "cell_type": "code",
   "execution_count": 22,
   "metadata": {
    "collapsed": false
   },
   "outputs": [],
   "source": [
    "# Use t-sne to see the node\n",
    "low_manifest = TSNE().fit_transform(Final_emb)"
   ]
  },
  {
   "cell_type": "code",
   "execution_count": 23,
   "metadata": {
    "collapsed": false
   },
   "outputs": [
    {
     "data": {
      "image/png": "[encoded data removed]",
      "text/plain": [
       "<matplotlib.figure.Figure at 0x7fcab39ebe50>"
      ]
     },
     "metadata": {},
     "output_type": "display_data"
    }
   ],
   "source": [
    "for i in xrange(len(low_manifest)):\n",
    "    plt.scatter(low_manifest[i][0], low_manifest[i][1])\n",
    "    plt.text(low_manifest[i][0], low_manifest[i][1], str(i))\n",
    "plt.show()"
   ]
  },
  {
   "cell_type": "code",
   "execution_count": 18,
   "metadata": {
    "collapsed": false
   },
   "outputs": [
    {
     "data": {
      "image/png": "[encoded data removed]",
      "text/plain": [
       "<matplotlib.figure.Figure at 0x7fcaf19900d0>"
      ]
     },
     "metadata": {},
     "output_type": "display_data"
    }
   ],
   "source": [
    "# Visualize the Graph\n",
    "G = nx.Graph(data_graph.toarray())\n",
    "pos = nx.spring_layout(G)\n",
    "nx.draw_networkx_nodes(G, pos, node_color=\"w\")\n",
    "nx.draw_networkx_edges(G, pos, width=1)\n",
    "nx.draw_networkx_labels(G, pos ,font_size=16, font_color=\"black\")\n",
    "\n",
    "plt.xticks([])\n",
    "plt.yticks([])\n",
    "plt.show()"
   ]
  },
  {
   "cell_type": "code",
   "execution_count": 21,
   "metadata": {
    "collapsed": false
   },
   "outputs": [
    {
     "data": {
      "text/plain": [
       "-2.3394125923368847"
      ]
     },
     "execution_count": 21,
     "metadata": {},
     "output_type": "execute_result"
    }
   ],
   "source": []
  },
  {
   "cell_type": "code",
   "execution_count": null,
   "metadata": {
    "collapsed": true
   },
   "outputs": [],
   "source": []
  }
 ],
 "metadata": {
  "anaconda-cloud": {},
  "kernelspec": {
   "display_name": "Python [conda root]",
   "language": "python",
   "name": "conda-root-py"
  },
  "language_info": {
   "codemirror_mode": {
    "name": "ipython",
    "version": 2
   },
   "file_extension": ".py",
   "mimetype": "text/x-python",
   "name": "python",
   "nbconvert_exporter": "python",
   "pygments_lexer": "ipython2",
   "version": "2.7.12"
  }
 },
 "nbformat": 4,
 "nbformat_minor": 1
}
