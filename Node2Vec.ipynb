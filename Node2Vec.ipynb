{
 "cells": [
  {
   "cell_type": "markdown",
   "metadata": {},
   "source": [
    "# Node2vec Implementation\n",
    "\n",
    "This algorithm contains two steps:\n",
    "1. Generate sequences from graph by using random walk\n",
    "2. Use word2vec model to train embedding matrix from sequences"
   ]
  },
  {
   "cell_type": "code",
   "execution_count": 4,
   "metadata": {
    "collapsed": true
   },
   "outputs": [],
   "source": [
    "import numpy as np\n",
    "import random\n",
    "import networkx as nx\n",
    "import matplotlib.pyplot as plt\n",
    "from scipy.sparse import *\n",
    "%matplotlib inline"
   ]
  },
  {
   "cell_type": "code",
   "execution_count": 11,
   "metadata": {
    "collapsed": false
   },
   "outputs": [],
   "source": [
    "# prepare the graph\n",
    "row  = np.array([0, 3, 1, 0])\n",
    "col  = np.array([0, 3, 1, 2])\n",
    "data = np.array([4, 5, 7, 9])\n",
    "A = coo_matrix((data, (row, col)), shape=(4, 4)).tocsr() # store it as row matrix for better performance"
   ]
  },
  {
   "cell_type": "markdown",
   "metadata": {},
   "source": [
    "## Random Walk by using search bias alpha\n",
    "Let $t$ be the previous node, $v$ be the current node, so the $\\pi_{vx}$ for each $x$ node in the graph is defined as below:\n",
    "$$\\pi_{vx} = \\alpha_{pq}(t,x)w_{vx}$$\n",
    "$$\\alpha_{pq}(t,x) = \\left\\{\\begin{array}[ll]\n",
    "                \\frac{1}{p} & \\mbox{if}~d_{tx} = 0\\\\\n",
    "                1 & \\mbox{if}~d_{tx} = 1\\\\\n",
    "                \\frac{1}{q} & \\mbox{if}~d_{tx} = 2\n",
    "           \\end{array}\\right.$$"
   ]
  },
  {
   "cell_type": "code",
   "execution_count": 42,
   "metadata": {
    "collapsed": false
   },
   "outputs": [],
   "source": [
    "def alpha(t, x, p, q, data_graph):\n",
    "    if t == x:\n",
    "        return 1.0/p\n",
    "    elif data_graph[t, x] != 0:\n",
    "        return 1\n",
    "    else:\n",
    "        return 1.0/q\n",
    "\n",
    "def random_walk(start, p, q, sequence_length, data_graph):\n",
    "    sequence = []\n",
    "    for step in xrange(sequence_length):\n",
    "        if step == 0:\n",
    "            sequence.append(start)\n",
    "        elif step == 1:\n",
    "            if data_graph\n",
    "            current = data_graph[sequence[step-1],:].toarray().flatten()\n",
    "            if sum(current) != 0:\n",
    "                sequence.append(np.random.choice(range(data_graph.shape[1]), p=current/np.linalg.norm(current, ord=1)))\n",
    "            else:\n",
    "                sequence.append(sequence[step-1])\n",
    "        else:\n",
    "            current = data_graph[sequence[step-1],:].toarray().flatten()\n",
    "            if sum(current) != 0:\n",
    "                past = sequence[step-2]\n",
    "                pi_list = []\n",
    "                for i in xrange(data_graph.shape[1]):\n",
    "                    if current[i] != 0:\n",
    "                        pi_list.append(alpha(past, i, p, q, data_graph)*current[i])\n",
    "                    else:\n",
    "                        pi_list.append(0)\n",
    "                sequence.append(np.random.choice(range(data_graph.shape[1]), p=pi_list/np.linalg.norm(pi_list, ord=1)))\n",
    "            else:\n",
    "                sequence.append(sequence[step-1])\n",
    "    return sequence"
   ]
  },
  {
   "cell_type": "markdown",
   "metadata": {},
   "source": [
    "## Define word2vec model"
   ]
  }
 ],
 "metadata": {
  "anaconda-cloud": {},
  "kernelspec": {
   "display_name": "Python [conda root]",
   "language": "python",
   "name": "conda-root-py"
  },
  "language_info": {
   "codemirror_mode": {
    "name": "ipython",
    "version": 2
   },
   "file_extension": ".py",
   "mimetype": "text/x-python",
   "name": "python",
   "nbconvert_exporter": "python",
   "pygments_lexer": "ipython2",
   "version": "2.7.12"
  }
 },
 "nbformat": 4,
 "nbformat_minor": 1
}
