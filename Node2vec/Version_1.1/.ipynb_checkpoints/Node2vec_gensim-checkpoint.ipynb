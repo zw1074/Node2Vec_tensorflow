{
 "cells": [
  {
   "cell_type": "code",
   "execution_count": 2,
   "metadata": {},
   "outputs": [
    {
     "name": "stderr",
     "output_type": "stream",
     "text": [
      "Using TensorFlow backend.\n"
     ]
    }
   ],
   "source": [
    "import numpy as np\n",
    "import networkx as nx\n",
    "from gensim.models import Word2Vec\n",
    "import random\n",
    "import networkx as nx\n",
    "import matplotlib.pyplot as plt\n",
    "from scipy.sparse import *\n",
    "from tqdm import tqdm\n",
    "from sklearn.manifold import TSNE"
   ]
  },
  {
   "cell_type": "code",
   "execution_count": 3,
   "metadata": {
    "collapsed": true
   },
   "outputs": [],
   "source": [
    "def alpha(t, x, p, q, data_graph):\n",
    "    \"\"\"\n",
    "    param:\n",
    "    \n",
    "    Input:\n",
    "        @t: int, node index\n",
    "        @x: int, node index\n",
    "        @p: float, return factor\n",
    "        @q: float, go futher factor\n",
    "        @data_graph: matrix representation for graph\n",
    "        \n",
    "    Output:\n",
    "        @rtype: float\n",
    "    \"\"\"\n",
    "    if t == x:\n",
    "        return 1.0/p\n",
    "    elif data_graph[t, x] != 0:\n",
    "        return 1\n",
    "    else:\n",
    "        return 1.0/q\n",
    "\n",
    "def random_walk(start, p, q, sequence_length, data_graph):\n",
    "    sequence = []\n",
    "    for step in range(sequence_length):\n",
    "        if step == 0:\n",
    "            sequence.append(start)\n",
    "        elif step == 1:\n",
    "            current = data_graph[sequence[step-1],:].toarray().flatten()\n",
    "            if sum(current) != 0:\n",
    "                sequence.append(np.random.choice(range(data_graph.shape[1]), p=current/np.linalg.norm(current, ord=1)))\n",
    "            else:\n",
    "                sequence.append(sequence[step-1])\n",
    "        else:\n",
    "            current = data_graph[sequence[step-1],:].toarray().flatten()\n",
    "            if sum(current) != 0:\n",
    "                past = sequence[step-2]\n",
    "                pi_list = []\n",
    "                for i in range(data_graph.shape[1]):\n",
    "                    if current[i] != 0:\n",
    "                        pi_list.append(alpha(past, i, p, q, data_graph)*current[i])\n",
    "                    else:\n",
    "                        pi_list.append(0)\n",
    "                sequence.append(np.random.choice(range(data_graph.shape[1]), p=pi_list/np.linalg.norm(pi_list, ord=1)))\n",
    "            else:\n",
    "                sequence.append(sequence[step-1])\n",
    "    return sequence"
   ]
  },
  {
   "cell_type": "code",
   "execution_count": 4,
   "metadata": {},
   "outputs": [],
   "source": [
    "# read edge data from txt file and store it as csr_matrix\n",
    "with open(\"../../Data/graph.txt\") as f:\n",
    "    edges = f.readlines()\n",
    "rows = []\n",
    "cols = []\n",
    "data = []\n",
    "biggest_node_index = 0\n",
    "for edge in edges:\n",
    "    row, col = edge.strip().split()\n",
    "    rows.append(int(row)-1)\n",
    "#     rows.append(int(col)-1)\n",
    "    cols.append(int(col)-1)\n",
    "#     cols.append(int(row)-1)\n",
    "    data.append(1)\n",
    "    biggest_node_index = max([max([int(row), int(col)]), biggest_node_index])\n",
    "data_graph = coo_matrix((data, (rows, cols)), shape=(biggest_node_index, biggest_node_index)).tocsr()"
   ]
  },
  {
   "cell_type": "code",
   "execution_count": 5,
   "metadata": {
    "collapsed": true
   },
   "outputs": [],
   "source": [
    "# set some hyperparameter\n",
    "p=0.5\n",
    "q=1\n",
    "num_text = 1000\n",
    "sequence_length = 32\n",
    "num_nodes = data_graph.shape[0]\n",
    "emb_size = 200\n",
    "lr = 0.1\n",
    "batch_size = None\n",
    "context_size = 10\n",
    "num_epoch = 50\n",
    "num_sampled = data_graph.shape[0]"
   ]
  },
  {
   "cell_type": "code",
   "execution_count": 6,
   "metadata": {},
   "outputs": [
    {
     "name": "stderr",
     "output_type": "stream",
     "text": [
      "100%|██████████| 1000/1000 [00:05<00:00, 198.55it/s]\n"
     ]
    }
   ],
   "source": [
    "# Sampling\n",
    "corpus = []\n",
    "for i in tqdm(range(num_text)):\n",
    "    start = np.random.choice(range(num_nodes))\n",
    "    corpus.append(random_walk(start, p, q, sequence_length, data_graph))"
   ]
  },
  {
   "cell_type": "code",
   "execution_count": 7,
   "metadata": {
    "collapsed": true
   },
   "outputs": [],
   "source": [
    "walks = [list(map(str, walk)) for walk in corpus]"
   ]
  },
  {
   "cell_type": "code",
   "execution_count": 8,
   "metadata": {
    "collapsed": true
   },
   "outputs": [],
   "source": [
    "model = Word2Vec(walks, size=emb_size, window=context_size, min_count=0, sg=1, workers=8, iter=1)"
   ]
  },
  {
   "cell_type": "code",
   "execution_count": 9,
   "metadata": {},
   "outputs": [
    {
     "data": {
      "text/plain": [
       "<gensim.models.word2vec.Word2Vec at 0x7fadc3ae3dd8>"
      ]
     },
     "execution_count": 9,
     "metadata": {},
     "output_type": "execute_result"
    }
   ],
   "source": [
    "model"
   ]
  },
  {
   "cell_type": "code",
   "execution_count": 10,
   "metadata": {
    "collapsed": true
   },
   "outputs": [],
   "source": [
    "EMB = []\n",
    "for i in range(12):\n",
    "    EMB.append(model[str(i)])"
   ]
  },
  {
   "cell_type": "code",
   "execution_count": 11,
   "metadata": {
    "collapsed": true
   },
   "outputs": [],
   "source": [
    "low_manifest = TSNE().fit_transform(EMB)"
   ]
  },
  {
   "cell_type": "code",
   "execution_count": 12,
   "metadata": {},
   "outputs": [
    {
     "data": {
      "text/plain": [
       "(12, 2)"
      ]
     },
     "execution_count": 12,
     "metadata": {},
     "output_type": "execute_result"
    }
   ],
   "source": [
    "low_manifest.shape"
   ]
  },
  {
   "cell_type": "code",
   "execution_count": 13,
   "metadata": {},
   "outputs": [
    {
     "data": {
      "image/png": "[encoded data removed]",
      "text/plain": [
       "<matplotlib.figure.Figure at 0x7fadc3aef5f8>"
      ]
     },
     "metadata": {},
     "output_type": "display_data"
    }
   ],
   "source": [
    "for i in range(len(low_manifest)):\n",
    "    plt.scatter(low_manifest[i][0], low_manifest[i][1])\n",
    "    plt.text(low_manifest[i][0], low_manifest[i][1], str(i))\n",
    "plt.xlim([min(low_manifest[:,0]), max(low_manifest[:,0])])\n",
    "# plt.ylim([min(low_manifest[:,1]), min(low_manifest[:,1])])\n",
    "plt.show()"
   ]
  },
  {
   "cell_type": "code",
   "execution_count": 14,
   "metadata": {},
   "outputs": [
    {
     "data": {
      "image/png": "[encoded data removed]",
      "text/plain": [
       "<matplotlib.figure.Figure at 0x7fadc89fc9b0>"
      ]
     },
     "metadata": {},
     "output_type": "display_data"
    }
   ],
   "source": [
    "# Visualize the Graph\n",
    "id_to_name = ['Company', 'Fund', 'Subcompany', 'CEO', 'Actions', 'Make', 'Pay', 'Hire', 'Divedens', 'Salary', 'Employee', 'Money']\n",
    "name_to_id = {}\n",
    "for idx, name in enumerate(id_to_name):\n",
    "    name_to_id[name] = idx\n",
    "labels = {}\n",
    "for idx, name in enumerate(id_to_name):\n",
    "    labels[idx] = name\n",
    "G = nx.DiGraph(data_graph.toarray())\n",
    "pos = nx.spring_layout(G)\n",
    "new_pos = {}\n",
    "nx.draw_networkx_nodes(G, pos, node_color=\"w\", node_size=10)\n",
    "nx.draw_networkx_edges(G, pos, width=1)\n",
    "nx.draw_networkx_labels(G, pos ,labels=labels, font_size=16, font_color=\"black\")\n",
    "plt.xticks([])\n",
    "plt.yticks([])\n",
    "plt.show()"
   ]
  },
  {
   "cell_type": "code",
   "execution_count": 15,
   "metadata": {
    "collapsed": true
   },
   "outputs": [],
   "source": [
    "def is_to(A, B, C, model, name_to_id, id_to_name):\n",
    "    # A is to B as C is to ?\n",
    "    output = model.wv.most_similar(positive=[str(name_to_id[C]), str(name_to_id[B])], negative=[str(name_to_id[A])])\n",
    "    return list(map(lambda x:(id_to_name[int(x[0])], x[1]), output))"
   ]
  },
  {
   "cell_type": "code",
   "execution_count": 16,
   "metadata": {
    "collapsed": true
   },
   "outputs": [],
   "source": [
    "def is_to_cos(A, B, C, model, name_to_id, id_to_name):\n",
    "    # A is to B as C is to ?\n",
    "    output = model.wv.most_similar_cosmul(positive=[str(name_to_id[C]), str(name_to_id[B])], negative=[str(name_to_id[A])])\n",
    "    return list(map(lambda x:(id_to_name[int(x[0])], x[1]), output))"
   ]
  },
  {
   "cell_type": "code",
   "execution_count": 17,
   "metadata": {},
   "outputs": [
    {
     "data": {
      "text/plain": [
       "[('CEO', 0.8913702964782715),\n",
       " ('Fund', 0.8546546697616577),\n",
       " ('Make', 0.8544994592666626),\n",
       " ('Money', 0.8500142097473145),\n",
       " ('Employee', 0.8243778347969055),\n",
       " ('Salary', 0.7935019731521606),\n",
       " ('Hire', 0.7914747595787048),\n",
       " ('Company', 0.7898470163345337),\n",
       " ('Divedens', 0.4434548318386078)]"
      ]
     },
     "execution_count": 17,
     "metadata": {},
     "output_type": "execute_result"
    }
   ],
   "source": [
    "is_to('Subcompany', 'Actions', 'Pay', model, name_to_id, id_to_name)"
   ]
  },
  {
   "cell_type": "code",
   "execution_count": 18,
   "metadata": {},
   "outputs": [
    {
     "data": {
      "text/plain": [
       "[('CEO', 0.8912871479988098),\n",
       " ('Make', 0.8719084858894348),\n",
       " ('Fund', 0.8716384172439575),\n",
       " ('Money', 0.8705145120620728),\n",
       " ('Employee', 0.8567535281181335),\n",
       " ('Salary', 0.8436747193336487),\n",
       " ('Company', 0.8409667611122131),\n",
       " ('Hire', 0.840553343296051),\n",
       " ('Divedens', 0.6962623000144958)]"
      ]
     },
     "execution_count": 18,
     "metadata": {},
     "output_type": "execute_result"
    }
   ],
   "source": [
    "is_to_cos('Subcompany', 'Actions', 'Pay', model, name_to_id, id_to_name)"
   ]
  },
  {
   "cell_type": "code",
   "execution_count": null,
   "metadata": {
    "collapsed": true
   },
   "outputs": [],
   "source": []
  }
 ],
 "metadata": {
  "kernelspec": {
   "display_name": "Python 3",
   "language": "python",
   "name": "python3"
  },
  "language_info": {
   "codemirror_mode": {
    "name": "ipython",
    "version": 3
   },
   "file_extension": ".py",
   "mimetype": "text/x-python",
   "name": "python",
   "nbconvert_exporter": "python",
   "pygments_lexer": "ipython3",
   "version": "3.6.1"
  }
 },
 "nbformat": 4,
 "nbformat_minor": 2
}
