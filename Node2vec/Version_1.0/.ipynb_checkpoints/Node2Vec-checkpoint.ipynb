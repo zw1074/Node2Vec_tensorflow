{
 "cells": [
  {
   "cell_type": "markdown",
   "metadata": {},
   "source": [
    "# Node2vec Implementation\n",
    "\n",
    "This algorithm contains two steps:\n",
    "1. Generate sequences from graph by using random walk\n",
    "2. Use word2vec model to train embedding matrix from sequences"
   ]
  },
  {
   "cell_type": "code",
   "execution_count": 1,
   "metadata": {
    "collapsed": true
   },
   "outputs": [],
   "source": [
    "import numpy as np\n",
    "import random\n",
    "import networkx as nx\n",
    "import matplotlib.pyplot as plt\n",
    "from scipy.sparse import *\n",
    "import tensorflow as tf\n",
    "from sklearn.manifold import TSNE\n",
    "from tqdm import tqdm\n",
    "from sklearn.metrics.pairwise import cosine_similarity\n",
    "%matplotlib inline"
   ]
  },
  {
   "cell_type": "code",
   "execution_count": 2,
   "metadata": {
    "collapsed": true
   },
   "outputs": [],
   "source": [
    "# prepare the graph\n",
    "row  = np.array([0, 3, 1, 0])\n",
    "col  = np.array([0, 3, 1, 2])\n",
    "data = np.array([4, 5, 7, 9])\n",
    "A = coo_matrix((data, (row, col)), shape=(4, 4)).tocsr() # store it as row matrix for better performance"
   ]
  },
  {
   "cell_type": "markdown",
   "metadata": {},
   "source": [
    "## Random Walk by using search bias alpha\n",
    "Let $t$ be the previous node, $v$ be the current node, so the $\\pi_{vx}$ for each $x$ node in the graph is defined as below:\n",
    "$$\\pi_{vx} = \\alpha_{pq}(t,x)w_{vx}$$\n",
    "$$\\alpha_{pq}(t,x) = \\left\\{\\begin{array}[ll]\\\\\n",
    "                \\frac{1}{p} & \\mbox{if}~d_{tx} = 0\\\\\n",
    "                1 & \\mbox{if}~d_{tx} = 1\\\\\n",
    "                \\frac{1}{q} & \\mbox{if}~d_{tx} = 2\n",
    "           \\end{array}\\right.$$"
   ]
  },
  {
   "cell_type": "code",
   "execution_count": 3,
   "metadata": {
    "collapsed": true
   },
   "outputs": [],
   "source": [
    "# current = v\n",
    "# previous = t\n",
    "# (t, v) -> next? \n",
    "# v connect to (x1, x2, ...)"
   ]
  },
  {
   "cell_type": "code",
   "execution_count": 4,
   "metadata": {
    "collapsed": true
   },
   "outputs": [],
   "source": [
    "def alpha(t, x, p, q, data_graph):\n",
    "    \"\"\"\n",
    "    param:\n",
    "    \n",
    "    Input:\n",
    "        @t: int, node index\n",
    "        @x: int, node index\n",
    "        @p: float, return factor\n",
    "        @q: float, go futher factor\n",
    "        @data_graph: matrix representation for graph\n",
    "        \n",
    "    Output:\n",
    "        @rtype: float\n",
    "    \"\"\"\n",
    "    if t == x:\n",
    "        return 1.0/p\n",
    "    elif data_graph[t, x] != 0:\n",
    "        return 1\n",
    "    else:\n",
    "        return 1.0/q\n",
    "\n",
    "def random_walk(start, p, q, sequence_length, data_graph):\n",
    "    sequence = []\n",
    "    for step in range(sequence_length):\n",
    "        if step == 0:\n",
    "            sequence.append(start)\n",
    "        elif step == 1:\n",
    "            current = data_graph[sequence[step-1],:].toarray().flatten()\n",
    "            if sum(current) != 0:\n",
    "                sequence.append(np.random.choice(range(data_graph.shape[1]), p=current/np.linalg.norm(current, ord=1)))\n",
    "            else:\n",
    "                sequence.append(sequence[step-1])\n",
    "        else:\n",
    "            current = data_graph[sequence[step-1],:].toarray().flatten()\n",
    "            if sum(current) != 0:\n",
    "                past = sequence[step-2]\n",
    "                pi_list = []\n",
    "                for i in range(data_graph.shape[1]):\n",
    "                    if current[i] != 0:\n",
    "                        pi_list.append(alpha(past, i, p, q, data_graph)*current[i])\n",
    "                    else:\n",
    "                        pi_list.append(0)\n",
    "                sequence.append(np.random.choice(range(data_graph.shape[1]), p=pi_list/np.linalg.norm(pi_list, ord=1)))\n",
    "            else:\n",
    "                sequence.append(sequence[step-1])\n",
    "    return sequence"
   ]
  },
  {
   "cell_type": "markdown",
   "metadata": {},
   "source": [
    "## Define word2vec model"
   ]
  },
  {
   "cell_type": "code",
   "execution_count": 5,
   "metadata": {
    "collapsed": true
   },
   "outputs": [],
   "source": [
    "# define neural net as word2vec\n",
    "class Node2Vec(object):\n",
    "    \"\"\"docstring for Node2Vec\"\"\"\n",
    "    def __init__(self, num_nodes, emb_size, lr, batch_size, context_size,num_sampled):\n",
    "        self.num_nodes = num_nodes\n",
    "        self.embedding_size = emb_size\n",
    "        self.lr = lr\n",
    "        self.batch_size = batch_size\n",
    "        self.context_size = context_size\n",
    "        self.num_sampled = num_sampled\n",
    "\n",
    "    def build(self):\n",
    "        # Parameters to learn\n",
    "        global_step = tf.Variable(0, name='global_step', trainable=False)\n",
    "        \n",
    "        self.node_embeddings = tf.Variable(tf.random_uniform([self.num_nodes, self.embedding_size], -1.0, 1.0))\n",
    "        softmax_weights = tf.Variable(tf.truncated_normal([self.num_nodes, self.embedding_size],stddev=1.0 / np.sqrt(self.embedding_size)))\n",
    "        softmax_biases = tf.Variable(tf.zeros([self.num_nodes]))\n",
    "\n",
    "        # Input data and re-orgenize size.\n",
    "        with tf.name_scope(\"context_node\") as scope:\n",
    "            #context nodes to each input node in the batch (e.g [[1,2],[4,6],[5,7]] where batch_size = 3,context_size=3)\n",
    "            self.train_context_node= tf.placeholder(tf.int32, shape=[self.batch_size,self.context_size],name=\"context_node\")\n",
    "            #orgenize prediction labels (skip-gram model predicts context nodes (i.e labels) given a input node)\n",
    "            #i.e make [[1,2,4,6,5,7]] given context above. The redundant dimention is just for restriction on tensorflow API.\n",
    "            train_context_node_flat=tf.cast(tf.reshape(self.train_context_node,[-1,1]), tf.float32)\n",
    "#             print train_context_node_flat\n",
    "        with tf.name_scope(\"input_node\") as scope:\n",
    "            #batch input node to the network(e.g [2,1,3] where batch_size = 3)\n",
    "            self.train_input_node= tf.placeholder(tf.int32, shape=[self.batch_size],name=\"input_node\")\n",
    "            #orgenize input as flat. i.e we want to make [2,2,2,1,1,1,3,3,3] given the  input nodes above\n",
    "            input_ones=tf.ones_like(self.train_context_node)\n",
    "#             input_ones=tf.ones_like(tf.constant(np.zeros(self.context_size)), dtype=tf.int32)\n",
    "#             train_input_node_flat=tf.reshape(tf.matmul(tf.reshape(self.train_input_node,[-1,1]), tf.reshape(input_ones, [1,-1])),[-1])\n",
    "            train_input_node_flat=tf.reshape(tf.multiply(input_ones,tf.reshape(self.train_input_node,[-1,1])),[-1])\n",
    "\n",
    "        # Model.\n",
    "        with tf.name_scope(\"loss\") as scope:\n",
    "            # Look up embeddings for words.\n",
    "            node_embed = tf.nn.embedding_lookup(self.node_embeddings, train_input_node_flat)\n",
    "#             print node_embed\n",
    "            # Compute the softmax loss, using a sample of the negative labels each time.\n",
    "            self.loss_node2vec = tf.reduce_mean(tf.nn.sampled_softmax_loss(softmax_weights,softmax_biases,train_context_node_flat, node_embed, self.num_sampled, self.num_nodes))\n",
    "#             loss_node2vec_summary = tf.scalar_summary(\"loss_node2vec\", self.loss_node2vec)\n",
    "            \n",
    "        self.update_loss = tf.train.AdamOptimizer().minimize(self.loss_node2vec,global_step=global_step)\n",
    "            \n",
    "            \n",
    "#         self.train_context_node = tf.placeholder(tf.int32, shape=[self.batch_size, self.context_size]) # (batch_size, context_size)\n",
    "#         self.train_input_node = tf.placeholder(tf.int32, shape=[self.batch_size, 1])\n",
    "#         labels = tf.one_hot(self.train_input_node, self.num_nodes) # (batch_size, numb_nodes)\n",
    "#         self.node_embeddings = tf.Variable(tf.random_uniform([self.num_nodes, self.embedding_size], -1.0, 1.0)) \n",
    "#         graph_emb = tf.nn.embedding_lookup(self.node_embeddings, self.train_context_node)# (batch_size, context_size, emb_size)\n",
    "#         graph_emb = tf.reduce_sum(graph_emb, 1) # (batch_size, emb_size)\n",
    "#         graph_emb = tf.nn.tanh(graph_emb)\n",
    "#         W = tf.Variable(tf.truncated_normal([self.embedding_size, self.num_nodes],stddev=1.0 / np.sqrt(self.embedding_size)))\n",
    "#         b = tf.Variable(tf.zeros([self.num_nodes]))\n",
    "#         output = tf.nn.xw_plus_b(graph_emb, W, b) # (batch_size, numb_nodes)\n",
    "#         self.loss_node2vec = tf.reduce_mean(tf.nn.softmax_cross_entropy_with_logits(logits=output, labels=labels))\n",
    "#         # loss_node2vec_summary = tf.scalar_summary(\"loss_node2vec\", loss)\n",
    "#         self.update_loss = tf.train.AdamOptimizer(learning_rate = self.lr).minimize(self.loss_node2vec)\n",
    "\n",
    "\n",
    "# Tensorflow version word2vec (skip-gram)\n",
    "#         self.node_embeddings = tf.Variable(tf.random_uniform([self.num_nodes, self.embedding_size], -1.0, 1.0)) \n",
    "#         softmax_weights = tf.Variable(tf.truncated_normal([self.num_nodes, self.embedding_size],stddev=1.0 / np.sqrt(self.embedding_size)))\n",
    "#         softmax_biases = tf.Variable(tf.zeros([self.num_nodes]))\n",
    "#         train_inputs = tf.placeholder(tf.int32, shape=[self.batch_size])\n",
    "#         train_labels = tf.placeholder(tf.int32, shape=[self.batch_size, 1])\n",
    "        "
   ]
  },
  {
   "cell_type": "markdown",
   "metadata": {},
   "source": [
    "## Training process"
   ]
  },
  {
   "cell_type": "code",
   "execution_count": 6,
   "metadata": {
    "collapsed": true
   },
   "outputs": [],
   "source": [
    "# read edge data from txt file and store it as csr_matrix\n",
    "with open(\"../../Data/graph.txt\") as f:\n",
    "    edges = f.readlines()\n",
    "rows = []\n",
    "cols = []\n",
    "data = []\n",
    "biggest_node_index = 0\n",
    "for edge in edges:\n",
    "    row, col = edge.strip().split()\n",
    "    rows.append(int(row)-1)\n",
    "#     rows.append(int(col)-1)\n",
    "    cols.append(int(col)-1)\n",
    "#     cols.append(int(row)-1)\n",
    "    data.append(1)\n",
    "    biggest_node_index = max([max([int(row), int(col)]), biggest_node_index])\n",
    "data_graph = coo_matrix((data, (rows, cols)), shape=(biggest_node_index, biggest_node_index)).tocsr()"
   ]
  },
  {
   "cell_type": "code",
   "execution_count": 28,
   "metadata": {},
   "outputs": [
    {
     "data": {
      "text/plain": [
       "array([[0, 1, 0, 0, 0, 0, 0, 0, 0, 0, 0, 0],\n",
       "       [1, 0, 0, 0, 1, 0, 0, 0, 0, 0, 0, 0],\n",
       "       [1, 1, 0, 0, 0, 0, 0, 0, 0, 0, 0, 0],\n",
       "       [1, 0, 0, 0, 0, 0, 0, 0, 0, 0, 0, 0],\n",
       "       [0, 0, 0, 0, 0, 1, 1, 1, 0, 0, 0, 0],\n",
       "       [0, 0, 0, 0, 0, 0, 0, 0, 0, 0, 0, 1],\n",
       "       [0, 0, 0, 0, 0, 0, 0, 0, 1, 1, 0, 0],\n",
       "       [0, 0, 0, 0, 0, 0, 0, 0, 0, 0, 1, 0],\n",
       "       [0, 0, 0, 0, 0, 0, 0, 0, 0, 0, 0, 0],\n",
       "       [0, 0, 0, 0, 0, 0, 0, 0, 0, 0, 0, 0],\n",
       "       [0, 0, 0, 0, 0, 1, 0, 0, 0, 0, 0, 0],\n",
       "       [1, 1, 0, 0, 0, 0, 0, 0, 0, 0, 0, 0]], dtype=int64)"
      ]
     },
     "execution_count": 28,
     "metadata": {},
     "output_type": "execute_result"
    }
   ],
   "source": [
    "data_graph.toarray()"
   ]
  },
  {
   "cell_type": "code",
   "execution_count": 7,
   "metadata": {
    "collapsed": true
   },
   "outputs": [],
   "source": [
    "# set some hyperparameter\n",
    "p=0.5\n",
    "q=1\n",
    "num_text = 1000\n",
    "sequence_length = 32\n",
    "num_nodes = data_graph.shape[0]\n",
    "emb_size = 50\n",
    "lr = 0.1\n",
    "batch_size = None\n",
    "context_size = 10\n",
    "num_epoch = 50\n",
    "num_sampled = data_graph.shape[0]"
   ]
  },
  {
   "cell_type": "markdown",
   "metadata": {},
   "source": [
    "### 1. Sample the walk sequence from random walk"
   ]
  },
  {
   "cell_type": "code",
   "execution_count": 8,
   "metadata": {},
   "outputs": [
    {
     "name": "stderr",
     "output_type": "stream",
     "text": [
      "100%|██████████| 1000/1000 [00:05<00:00, 199.17it/s]\n"
     ]
    }
   ],
   "source": [
    "# Sampling\n",
    "corpus = []\n",
    "for i in tqdm(range(num_text)):\n",
    "    start = np.random.choice(range(num_nodes))\n",
    "    corpus.append(random_walk(start, p, q, sequence_length, data_graph))"
   ]
  },
  {
   "cell_type": "markdown",
   "metadata": {},
   "source": [
    "### 2. Build the neural net and train it"
   ]
  },
  {
   "cell_type": "code",
   "execution_count": 9,
   "metadata": {
    "collapsed": true
   },
   "outputs": [],
   "source": [
    "# training the neural net\n",
    "net = Node2Vec(num_nodes, emb_size, lr, batch_size, context_size, num_sampled)\n",
    "net.build()"
   ]
  },
  {
   "cell_type": "code",
   "execution_count": 11,
   "metadata": {
    "scrolled": false
   },
   "outputs": [
    {
     "name": "stdout",
     "output_type": "stream",
     "text": [
      "1.81147\n",
      "1.80049\n",
      "1.7865\n",
      "1.79966\n",
      "1.78191\n",
      "1.78659\n",
      "1.78199\n",
      "1.79288\n",
      "1.78793\n",
      "1.8\n",
      "1.77886\n",
      "1.78973\n",
      "1.80246\n",
      "1.79273\n",
      "1.79009\n",
      "1.78266\n",
      "1.78006\n",
      "1.79362\n",
      "1.79377\n",
      "1.78901\n",
      "1.78122\n",
      "1.78198\n",
      "1.80034\n",
      "1.78349\n",
      "1.79734\n",
      "1.79675\n",
      "1.79994\n",
      "1.80462\n",
      "1.78321\n",
      "1.78819\n",
      "1.81374\n",
      "1.81749\n",
      "1.78203\n",
      "1.79215\n",
      "1.78304\n",
      "1.82251\n",
      "1.80297\n",
      "1.79563\n",
      "1.80492\n",
      "1.81111\n",
      "1.80179\n",
      "1.78845\n",
      "1.7798\n",
      "1.77981\n",
      "1.81125\n",
      "1.77976\n",
      "1.78345\n",
      "1.78674\n",
      "1.78303\n",
      "1.78136\n",
      "Model saved in file: ./Models/model.ckpt\n"
     ]
    }
   ],
   "source": [
    "init = tf.global_variables_initializer()\n",
    "# merged = tf.merge_all_summaries()\n",
    "saver = tf.train.Saver()\n",
    "with tf.Session() as sess:\n",
    "    log_dir = \"./log1\"\n",
    "#     writer = tf.train.SummaryWriter(log_dir, sess.graph)\n",
    "    sess.run(init)\n",
    "    t = 0\n",
    "    emb = None\n",
    "    for epoch in range(num_epoch):\n",
    "        for i in range(num_text):\n",
    "            current_seq = corpus[i]\n",
    "            labels = np.array([current_seq[j] for j in range(sequence_length)])\n",
    "            inputs = []\n",
    "            for j in range(sequence_length):\n",
    "                if j < context_size/2:\n",
    "                    inputs.append( np.append(current_seq[:j], current_seq[j+1:context_size+1]) )\n",
    "                elif j >= sequence_length - context_size/2:\n",
    "                    inputs.append( np.append(current_seq[sequence_length-context_size-1:j], current_seq[j+1:]) )\n",
    "                else:\n",
    "                    inputs.append(np.append(current_seq[j-context_size//2:j], current_seq[j + 1:j + context_size//2+1]))\n",
    "            inputs = np.array(inputs)\n",
    "            feed_dict = {net.train_context_node: inputs, net.train_input_node: labels}\n",
    "            _, loss = sess.run([net.update_loss, net.loss_node2vec], feed_dict=feed_dict)\n",
    "        #         writer.add_summary(summary,i)\n",
    "            t += 1\n",
    "            if t % 1000 == 0:\n",
    "                print(loss)\n",
    "#                 if emb == None:\n",
    "#                     emb = sess.run(net.node_embeddings)\n",
    "#                 else:\n",
    "#                     emb2 = sess.run(net.node_embeddings)\n",
    "#                     print(np.sum(np.abs(emb - emb2)))\n",
    "#                     emb = emb2\n",
    "    # Get the final result\n",
    "    Final_emb = sess.run(net.node_embeddings)\n",
    "    # Save the model\n",
    "    save_path = saver.save(sess, \"./Models/model.ckpt\")\n",
    "    print(\"Model saved in file: %s\" % save_path)"
   ]
  },
  {
   "cell_type": "code",
   "execution_count": 12,
   "metadata": {},
   "outputs": [
    {
     "data": {
      "text/plain": [
       "[2, 1, 0, 1, 0, 1, 0, 1]"
      ]
     },
     "execution_count": 12,
     "metadata": {},
     "output_type": "execute_result"
    }
   ],
   "source": [
    "current_seq[0:8]"
   ]
  },
  {
   "cell_type": "markdown",
   "metadata": {},
   "source": [
    "### 3. Visualization"
   ]
  },
  {
   "cell_type": "code",
   "execution_count": 13,
   "metadata": {
    "collapsed": true
   },
   "outputs": [],
   "source": [
    "# Use t-sne to see the node\n",
    "low_manifest = TSNE().fit_transform(Final_emb)"
   ]
  },
  {
   "cell_type": "code",
   "execution_count": 14,
   "metadata": {},
   "outputs": [
    {
     "data": {
      "text/plain": [
       "(12, 2)"
      ]
     },
     "execution_count": 14,
     "metadata": {},
     "output_type": "execute_result"
    }
   ],
   "source": [
    "low_manifest.shape"
   ]
  },
  {
   "cell_type": "code",
   "execution_count": 15,
   "metadata": {},
   "outputs": [
    {
     "data": {
      "image/png": "[encoded data removed]",
      "text/plain": [
       "<matplotlib.figure.Figure at 0x7f904807db70>"
      ]
     },
     "metadata": {},
     "output_type": "display_data"
    }
   ],
   "source": [
    "for i in range(len(low_manifest)):\n",
    "    plt.scatter(low_manifest[i][0], low_manifest[i][1])\n",
    "    plt.text(low_manifest[i][0], low_manifest[i][1], str(i))\n",
    "plt.xlim([min(low_manifest[:,0]), max(low_manifest[:,0])])\n",
    "# plt.ylim([min(low_manifest[:,1]), min(low_manifest[:,1])])\n",
    "plt.show()"
   ]
  },
  {
   "cell_type": "code",
   "execution_count": 16,
   "metadata": {},
   "outputs": [
    {
     "data": {
      "image/png": "[encoded data removed]",
      "text/plain": [
       "<matplotlib.figure.Figure at 0x7f90406699b0>"
      ]
     },
     "metadata": {},
     "output_type": "display_data"
    }
   ],
   "source": [
    "# Visualize the Graph\n",
    "id_to_name = ['Company', 'Fund', 'Subcompany', 'CEO', 'Actions', 'Make', 'Pay', 'Hire', 'Divedens', 'Salary', 'Employee', 'Money']\n",
    "name_to_id = {}\n",
    "for idx, name in enumerate(id_to_name):\n",
    "    name_to_id[name] = idx\n",
    "labels = {}\n",
    "for idx, name in enumerate(id_to_name):\n",
    "    labels[idx] = name\n",
    "G = nx.DiGraph(data_graph.toarray())\n",
    "pos = nx.spring_layout(G)\n",
    "new_pos = {}\n",
    "nx.draw_networkx_nodes(G, pos, node_color=\"w\", node_size=1000)\n",
    "nx.draw_networkx_edges(G, pos, width=1)\n",
    "nx.draw_networkx_labels(G, pos ,labels=labels, font_size=16, font_color=\"black\")\n",
    "plt.xticks([])\n",
    "plt.yticks([])\n",
    "plt.show()"
   ]
  },
  {
   "cell_type": "code",
   "execution_count": 17,
   "metadata": {
    "collapsed": true
   },
   "outputs": [],
   "source": [
    "def is_to(A, B, C, Final_emb, name_to_id, id_to_name):\n",
    "    # A is to B as C is to ?\n",
    "    maxi = (cosine_similarity(Final_emb[0].reshape(1, -1), Final_emb[name_to_id[C]].reshape(1, -1)) - cosine_similarity(Final_emb[0].reshape(1, -1), Final_emb[name_to_id[A]].reshape(1, -1)) + cosine_similarity(Final_emb[0].reshape(1, -1), Final_emb[name_to_id[B]].reshape(1, -1)))[0][0]\n",
    "    max_id = 0\n",
    "    for i in range(len(Final_emb)):\n",
    "        current = (cosine_similarity(Final_emb[i].reshape(1, -1), Final_emb[name_to_id[C]].reshape(1, -1)) - cosine_similarity(Final_emb[i].reshape(1, -1), Final_emb[name_to_id[A]].reshape(1, -1)) + cosine_similarity(Final_emb[i].reshape(1, -1).reshape(1, -1), Final_emb[name_to_id[B]].reshape(1, -1)))[0][0]\n",
    "        if current > maxi:\n",
    "            max_id = i\n",
    "            maxi = current\n",
    "    return id_to_name[max_id]\n",
    "# cosine_similarity(Final_emb[name_to_id['Company']], Final_emb[name_to_id['Actions']])[0]"
   ]
  },
  {
   "cell_type": "code",
   "execution_count": 24,
   "metadata": {},
   "outputs": [
    {
     "data": {
      "text/plain": [
       "'Actions'"
      ]
     },
     "execution_count": 24,
     "metadata": {},
     "output_type": "execute_result"
    }
   ],
   "source": [
    "# Let's try it!\n",
    "is_to('Subcompany', 'Actions', 'Money', Final_emb, name_to_id, id_to_name)"
   ]
  },
  {
   "cell_type": "code",
   "execution_count": 19,
   "metadata": {
    "collapsed": true
   },
   "outputs": [],
   "source": [
    "from sklearn.preprocessing import normalize\n",
    "\n",
    "def top_k(C,c_id,cid2cname,topk=5):\n",
    "    C_norm = normalize(C)\n",
    "    c_vec=C_norm[c_id]\n",
    "    sim = np.dot(C_norm,c_vec)\n",
    "    nearest = (-sim).argsort()[1:topk+1]\n",
    "    results=[(cid2cname[nearest[k]],sim[nearest[k]]) for k in range(topk)]\n",
    "    return results\n",
    "\n",
    "def top_k_vec(C,vec,cid2cname,topk=5):\n",
    "    C_norm=normalize(C)\n",
    "    vec_norm=vec/np.linalg.norm(vec)\n",
    "    sim = np.dot(C_norm,vec_norm)\n",
    "    nearest = (-sim).argsort()[0:topk]\n",
    "    results=[(cid2cname[nearest[k]],sim[nearest[k]]) for k in range(topk)]\n",
    "    return results\n",
    "\n",
    "def print_top(results):\n",
    "    for pair in results:\n",
    "        print(pair[0],pair[1])"
   ]
  },
  {
   "cell_type": "code",
   "execution_count": 20,
   "metadata": {},
   "outputs": [
    {
     "name": "stdout",
     "output_type": "stream",
     "text": [
      "Subcompany 0.316848\n",
      "Fund 0.296303\n",
      "Actions 0.253923\n",
      "Divedens 0.189407\n",
      "Salary 0.123795\n"
     ]
    }
   ],
   "source": [
    "print_top(top_k(Final_emb,name_to_id['CEO'],id_to_name))"
   ]
  },
  {
   "cell_type": "code",
   "execution_count": 21,
   "metadata": {},
   "outputs": [
    {
     "data": {
      "image/png": "[encoded data removed]",
      "text/plain": [
       "<matplotlib.figure.Figure at 0x7f9040669b38>"
      ]
     },
     "metadata": {},
     "output_type": "display_data"
    }
   ],
   "source": [
    "nx.draw_networkx_nodes(G, pos, node_color=\"w\", node_size=10)\n",
    "nx.draw_networkx_edges(G, pos, width=1, arrows=True)\n",
    "nx.draw_networkx_labels(G, pos ,labels=labels, font_size=16, font_color=\"black\")\n",
    "plt.xticks([])\n",
    "plt.yticks([])\n",
    "plt.show()"
   ]
  }
 ],
 "metadata": {
  "anaconda-cloud": {},
  "kernelspec": {
   "display_name": "Python 3",
   "language": "python",
   "name": "python3"
  },
  "language_info": {
   "codemirror_mode": {
    "name": "ipython",
    "version": 3
   },
   "file_extension": ".py",
   "mimetype": "text/x-python",
   "name": "python",
   "nbconvert_exporter": "python",
   "pygments_lexer": "ipython3",
   "version": "3.6.1"
  }
 },
 "nbformat": 4,
 "nbformat_minor": 1
}
